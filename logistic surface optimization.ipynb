{
 "cells": [
  {
   "cell_type": "code",
   "execution_count": 49,
   "metadata": {
    "collapsed": true
   },
   "outputs": [],
   "source": [
    "from scipy import optimize\n",
    "import numpy as np\n",
    "import matplotlib.pyplot as plt\n",
    "from mpl_toolkits.mplot3d import Axes3D\n",
    "import sys\n",
    "def printf(format, *args):\n",
    "    sys.stdout.write(format % args)"
   ]
  },
  {
   "cell_type": "code",
   "execution_count": 7,
   "metadata": {
    "collapsed": true
   },
   "outputs": [],
   "source": [
    "def g(x):\n",
    "    a = x[0]\n",
    "    b = x[1]\n",
    "    alpha = x[2]\n",
    "    return (1 + np.exp(-a) + np.exp(-b))** -alpha"
   ]
  },
  {
   "cell_type": "code",
   "execution_count": 41,
   "metadata": {},
   "outputs": [
    {
     "data": {
      "image/png": "[encoded data removed]",
      "text/plain": [
       "<matplotlib.figure.Figure at 0x7f4d0f9d01d0>"
      ]
     },
     "metadata": {},
     "output_type": "display_data"
    }
   ],
   "source": [
    "import matplotlib as mpl\n",
    "from mpl_toolkits.mplot3d import Axes3D\n",
    "import numpy as np\n",
    "import matplotlib.pyplot as plt\n",
    "\n",
    "mpl.rcParams['legend.fontsize'] = 10\n",
    "\n",
    "fig = plt.figure()\n",
    "ax = fig.gca(projection='3d')\n",
    "x = np.arange(0,10.0,0.1)\n",
    "y = np.arange(0,10.0, 0.1)\n",
    "\n",
    "xall = []\n",
    "yall = []\n",
    "zall = []\n",
    "z2all = []\n",
    "\n",
    "for i in x:\n",
    "    for j in y:\n",
    "        p = [i,j,1]\n",
    "        p2 = [i,j,10]\n",
    "        z = g(p)\n",
    "        z2 = g(p2)\n",
    "        xall.append(i)\n",
    "        yall.append(j)\n",
    "        zall.append(z)\n",
    "        z2all.append(z2)\n",
    "\n",
    "ax.plot(xall, yall, zall, label='logistic surface')\n",
    "ax.plot(xall, yall, z2all, label='logistic surface2')\n",
    "ax.legend()\n",
    "\n",
    "plt.show()"
   ]
  },
  {
   "cell_type": "code",
   "execution_count": 46,
   "metadata": {},
   "outputs": [],
   "source": [
    "def conv1(x):\n",
    "    a = x[0]\n",
    "    b = x[1]\n",
    "    alpha1 = 1\n",
    "    alpha2 = 10\n",
    "    ld = x[2]\n",
    "    return (1 + np.exp(-a) + np.exp(-b))**-alpha1\n",
    "\n",
    "def conv2(x):\n",
    "    a = x[0]\n",
    "    b = x[1]\n",
    "    alpha1 = 1\n",
    "    alpha2 = 10\n",
    "    ld = x[2]\n",
    "    return (1 + np.exp(-a) + np.exp(-b))**-alpha2\n",
    "\n",
    "def conv(x):\n",
    "    return conv1(x) + conv2(x)\n",
    "\n",
    "def costs(x):\n",
    "    a = x[0]\n",
    "    b = x[1]\n",
    "    alpha1 = 1\n",
    "    alpha2 = 10\n",
    "    ld = x[2]\n",
    "    return a + b\n",
    "\n",
    "def L(x):\n",
    "    a = x[0]\n",
    "    b = x[1]\n",
    "    alpha1 = 1\n",
    "    alpha2 = 10\n",
    "    ld = x[2]\n",
    "    return (1 + np.exp(-a) + np.exp(-b))**-alpha1 + (1 + np.exp(-a) + np.exp(-b))**-alpha2 + ld*(10-a-b)\n",
    "\n",
    "def GL(x, money):\n",
    "    a = x[0]\n",
    "    b = x[1]\n",
    "    alpha1 = 1\n",
    "    alpha2 = 10\n",
    "    ld = x[2]\n",
    "    da = alpha1 * np.exp(-a)* (1 + np.exp(-a) + np.exp(-b))**(-alpha1 - 1) + alpha2 * np.exp(-a)* (1 + np.exp(-a) + np.exp(-b))**(-alpha2 - 1) - ld\n",
    "    db = alpha1 * np.exp(-b)* (1 + np.exp(-a) + np.exp(-b))**(-alpha1 - 1) + alpha2 * np.exp(-b)* (1 + np.exp(-a) + np.exp(-b))**(-alpha2 - 1) - ld\n",
    "    dld = money - a - b    \n",
    "    return np.array([da,db,dld])"
   ]
  },
  {
   "cell_type": "code",
   "execution_count": 50,
   "metadata": {},
   "outputs": [
    {
     "name": "stdout",
     "output_type": "stream",
     "text": [
      "Result: [ 0.5         0.5         0.12481398] Cost 1.0 Conv1 0.452 Conv2 0.000 Conv 0.452\n",
      "Result: [ 1.          1.          0.13064044] Cost 2.0 Conv1 0.576 Conv2 0.004 Conv 0.580\n",
      "Result: [ 1.5         1.5         0.14520993] Cost 3.0 Conv1 0.691 Conv2 0.025 Conv 0.716\n",
      "Result: [ 2.          2.          0.18088131] Cost 4.0 Conv1 0.787 Conv2 0.091 Conv 0.878\n",
      "Result: [ 2.5         2.5         0.21476594] Cost 5.0 Conv1 0.859 Conv2 0.219 Conv 1.078\n",
      "Result: [ 3.          3.          0.21642372] Cost 6.0 Conv1 0.909 Conv2 0.387 Conv 1.296\n",
      "Result: [ 3.5         3.5         0.18528138] Cost 7.0 Conv1 0.943 Conv2 0.556 Conv 1.499\n",
      "Result: [ 4.          4.          0.14034169] Cost 8.0 Conv1 0.965 Conv2 0.698 Conv 1.663\n",
      "Result: [ 4.5         4.5         0.09786741] Cost 9.0 Conv1 0.978 Conv2 0.803 Conv 1.781\n",
      "Result: [ 5.        5.        0.064714] Cost 10.0 Conv1 0.987 Conv2 0.875 Conv 1.861\n"
     ]
    }
   ],
   "source": [
    "for m in np.arange(1,11,1):\n",
    "    res = optimize.root(GL, [10,10,10], m)\n",
    "    printf(\"Result: %s Cost %s Conv1 %.3f Conv2 %.3f Conv %.3f\\n\", res.x, costs(res.x), conv1(res.x), conv2(res.x), conv(res.x))"
   ]
  },
  {
   "cell_type": "code",
   "execution_count": null,
   "metadata": {
    "collapsed": true
   },
   "outputs": [],
   "source": []
  }
 ],
 "metadata": {
  "kernelspec": {
   "display_name": "Python 3",
   "language": "python",
   "name": "python3"
  },
  "language_info": {
   "codemirror_mode": {
    "name": "ipython",
    "version": 3
   },
   "file_extension": ".py",
   "mimetype": "text/x-python",
   "name": "python",
   "nbconvert_exporter": "python",
   "pygments_lexer": "ipython3",
   "version": "3.5.2"
  }
 },
 "nbformat": 4,
 "nbformat_minor": 2
}
