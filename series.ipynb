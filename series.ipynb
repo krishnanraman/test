{
 "cells": [
  {
   "cell_type": "code",
   "execution_count": 1,
   "metadata": {},
   "outputs": [],
   "source": [
    "import pandas as pd\n",
    "import numpy as np"
   ]
  },
  {
   "cell_type": "code",
   "execution_count": 2,
   "metadata": {},
   "outputs": [],
   "source": [
    "data = pd.read_csv(\"~/Desktop/nyc_series.csv\")"
   ]
  },
  {
   "cell_type": "code",
   "execution_count": 3,
   "metadata": {},
   "outputs": [
    {
     "data": {
      "text/html": [
       "<div>\n",
       "<style scoped>\n",
       "    .dataframe tbody tr th:only-of-type {\n",
       "        vertical-align: middle;\n",
       "    }\n",
       "\n",
       "    .dataframe tbody tr th {\n",
       "        vertical-align: top;\n",
       "    }\n",
       "\n",
       "    .dataframe thead th {\n",
       "        text-align: right;\n",
       "    }\n",
       "</style>\n",
       "<table border=\"1\" class=\"dataframe\">\n",
       "  <thead>\n",
       "    <tr style=\"text-align: right;\">\n",
       "      <th></th>\n",
       "      <th>local_date_id</th>\n",
       "      <th>rock_cookie_ginger_pre</th>\n",
       "      <th>rock_cookie_ginger_post</th>\n",
       "      <th>chelsea_cookie_ginger_pre</th>\n",
       "      <th>chelsea_cookie_ginger_post</th>\n",
       "      <th>dean_cookie_ginger_pre</th>\n",
       "      <th>dean_cookie_ginger_post</th>\n",
       "      <th>bryant_cookie_ginger_pre</th>\n",
       "      <th>bryant_cookie_ginger_post</th>\n",
       "      <th>park_slope_cookie_ginger_pre</th>\n",
       "      <th>...</th>\n",
       "      <th>dean_brownie_bite_pre</th>\n",
       "      <th>dean_brownie_bite_post</th>\n",
       "      <th>bryant_brownie_bite_pre</th>\n",
       "      <th>bryant_brownie_bite_post</th>\n",
       "      <th>park_slope_brownie_bite_pre</th>\n",
       "      <th>park_slope_brownie_bite_post</th>\n",
       "      <th>bushwick_brownie_bite_pre</th>\n",
       "      <th>bushwick_brownie_bite_post</th>\n",
       "      <th>clinton_brownie_bite_pre</th>\n",
       "      <th>clinton_brownie_bite_post</th>\n",
       "    </tr>\n",
       "  </thead>\n",
       "  <tbody>\n",
       "    <tr>\n",
       "      <th>0</th>\n",
       "      <td>20180226</td>\n",
       "      <td>0</td>\n",
       "      <td>24</td>\n",
       "      <td>0</td>\n",
       "      <td>11</td>\n",
       "      <td>0</td>\n",
       "      <td>5</td>\n",
       "      <td>0</td>\n",
       "      <td>10</td>\n",
       "      <td>0</td>\n",
       "      <td>...</td>\n",
       "      <td>0</td>\n",
       "      <td>1</td>\n",
       "      <td>0</td>\n",
       "      <td>8</td>\n",
       "      <td>0</td>\n",
       "      <td>5</td>\n",
       "      <td>0</td>\n",
       "      <td>2</td>\n",
       "      <td>0</td>\n",
       "      <td>1</td>\n",
       "    </tr>\n",
       "    <tr>\n",
       "      <th>1</th>\n",
       "      <td>20180225</td>\n",
       "      <td>0</td>\n",
       "      <td>7</td>\n",
       "      <td>0</td>\n",
       "      <td>8</td>\n",
       "      <td>0</td>\n",
       "      <td>7</td>\n",
       "      <td>0</td>\n",
       "      <td>6</td>\n",
       "      <td>0</td>\n",
       "      <td>...</td>\n",
       "      <td>0</td>\n",
       "      <td>5</td>\n",
       "      <td>0</td>\n",
       "      <td>2</td>\n",
       "      <td>0</td>\n",
       "      <td>6</td>\n",
       "      <td>0</td>\n",
       "      <td>0</td>\n",
       "      <td>0</td>\n",
       "      <td>6</td>\n",
       "    </tr>\n",
       "    <tr>\n",
       "      <th>2</th>\n",
       "      <td>20180224</td>\n",
       "      <td>0</td>\n",
       "      <td>12</td>\n",
       "      <td>0</td>\n",
       "      <td>7</td>\n",
       "      <td>0</td>\n",
       "      <td>8</td>\n",
       "      <td>0</td>\n",
       "      <td>6</td>\n",
       "      <td>0</td>\n",
       "      <td>...</td>\n",
       "      <td>0</td>\n",
       "      <td>5</td>\n",
       "      <td>0</td>\n",
       "      <td>5</td>\n",
       "      <td>0</td>\n",
       "      <td>16</td>\n",
       "      <td>0</td>\n",
       "      <td>1</td>\n",
       "      <td>0</td>\n",
       "      <td>7</td>\n",
       "    </tr>\n",
       "    <tr>\n",
       "      <th>3</th>\n",
       "      <td>20180223</td>\n",
       "      <td>0</td>\n",
       "      <td>18</td>\n",
       "      <td>0</td>\n",
       "      <td>5</td>\n",
       "      <td>0</td>\n",
       "      <td>3</td>\n",
       "      <td>0</td>\n",
       "      <td>9</td>\n",
       "      <td>0</td>\n",
       "      <td>...</td>\n",
       "      <td>0</td>\n",
       "      <td>1</td>\n",
       "      <td>0</td>\n",
       "      <td>10</td>\n",
       "      <td>0</td>\n",
       "      <td>11</td>\n",
       "      <td>0</td>\n",
       "      <td>0</td>\n",
       "      <td>0</td>\n",
       "      <td>2</td>\n",
       "    </tr>\n",
       "    <tr>\n",
       "      <th>4</th>\n",
       "      <td>20180222</td>\n",
       "      <td>0</td>\n",
       "      <td>20</td>\n",
       "      <td>0</td>\n",
       "      <td>11</td>\n",
       "      <td>0</td>\n",
       "      <td>2</td>\n",
       "      <td>0</td>\n",
       "      <td>13</td>\n",
       "      <td>0</td>\n",
       "      <td>...</td>\n",
       "      <td>0</td>\n",
       "      <td>1</td>\n",
       "      <td>0</td>\n",
       "      <td>10</td>\n",
       "      <td>0</td>\n",
       "      <td>5</td>\n",
       "      <td>0</td>\n",
       "      <td>1</td>\n",
       "      <td>0</td>\n",
       "      <td>3</td>\n",
       "    </tr>\n",
       "  </tbody>\n",
       "</table>\n",
       "<p>5 rows × 127 columns</p>\n",
       "</div>"
      ],
      "text/plain": [
       "   local_date_id  rock_cookie_ginger_pre  rock_cookie_ginger_post  \\\n",
       "0       20180226                       0                       24   \n",
       "1       20180225                       0                        7   \n",
       "2       20180224                       0                       12   \n",
       "3       20180223                       0                       18   \n",
       "4       20180222                       0                       20   \n",
       "\n",
       "   chelsea_cookie_ginger_pre  chelsea_cookie_ginger_post  \\\n",
       "0                          0                          11   \n",
       "1                          0                           8   \n",
       "2                          0                           7   \n",
       "3                          0                           5   \n",
       "4                          0                          11   \n",
       "\n",
       "   dean_cookie_ginger_pre  dean_cookie_ginger_post  bryant_cookie_ginger_pre  \\\n",
       "0                       0                        5                         0   \n",
       "1                       0                        7                         0   \n",
       "2                       0                        8                         0   \n",
       "3                       0                        3                         0   \n",
       "4                       0                        2                         0   \n",
       "\n",
       "   bryant_cookie_ginger_post  park_slope_cookie_ginger_pre  \\\n",
       "0                         10                             0   \n",
       "1                          6                             0   \n",
       "2                          6                             0   \n",
       "3                          9                             0   \n",
       "4                         13                             0   \n",
       "\n",
       "             ...              dean_brownie_bite_pre  dean_brownie_bite_post  \\\n",
       "0            ...                                  0                       1   \n",
       "1            ...                                  0                       5   \n",
       "2            ...                                  0                       5   \n",
       "3            ...                                  0                       1   \n",
       "4            ...                                  0                       1   \n",
       "\n",
       "   bryant_brownie_bite_pre  bryant_brownie_bite_post  \\\n",
       "0                        0                         8   \n",
       "1                        0                         2   \n",
       "2                        0                         5   \n",
       "3                        0                        10   \n",
       "4                        0                        10   \n",
       "\n",
       "   park_slope_brownie_bite_pre  park_slope_brownie_bite_post  \\\n",
       "0                            0                             5   \n",
       "1                            0                             6   \n",
       "2                            0                            16   \n",
       "3                            0                            11   \n",
       "4                            0                             5   \n",
       "\n",
       "   bushwick_brownie_bite_pre  bushwick_brownie_bite_post  \\\n",
       "0                          0                           2   \n",
       "1                          0                           0   \n",
       "2                          0                           1   \n",
       "3                          0                           0   \n",
       "4                          0                           1   \n",
       "\n",
       "   clinton_brownie_bite_pre  clinton_brownie_bite_post  \n",
       "0                         0                          1  \n",
       "1                         0                          6  \n",
       "2                         0                          7  \n",
       "3                         0                          2  \n",
       "4                         0                          3  \n",
       "\n",
       "[5 rows x 127 columns]"
      ]
     },
     "execution_count": 3,
     "metadata": {},
     "output_type": "execute_result"
    }
   ],
   "source": [
    "data.head()"
   ]
  },
  {
   "cell_type": "code",
   "execution_count": 4,
   "metadata": {},
   "outputs": [],
   "source": [
    "allcols = data.columns\n",
    "c = []\n",
    "for x in np.arange(2,len(allcols)):\n",
    "    if 'cookie' in allcols[x]:\n",
    "        if 'pre' in allcols[x]:\n",
    "            c.append(x)"
   ]
  },
  {
   "cell_type": "code",
   "execution_count": 5,
   "metadata": {},
   "outputs": [
    {
     "data": {
      "text/plain": [
       "[3, 5, 7, 9, 11, 13, 15, 17, 19, 21, 23, 25, 27]"
      ]
     },
     "execution_count": 5,
     "metadata": {},
     "output_type": "execute_result"
    }
   ],
   "source": [
    "c"
   ]
  },
  {
   "cell_type": "code",
   "execution_count": 6,
   "metadata": {},
   "outputs": [],
   "source": [
    "mymatrix = data.as_matrix()"
   ]
  },
  {
   "cell_type": "code",
   "execution_count": 7,
   "metadata": {},
   "outputs": [
    {
     "data": {
      "text/plain": [
       "array([ 0,  0,  0,  0,  0,  0,  0,  0,  0,  0,  0,  0,  0,  0,  0,  0,  0,\n",
       "        0,  0,  0,  0,  0,  0,  0,  0,  0,  0,  0,  0,  0,  0,  0,  0,  0,\n",
       "        0,  0,  0,  0,  0,  0,  0,  0,  0,  0,  0,  0,  0,  0,  0,  0,  0,\n",
       "        0,  0,  0,  0,  0,  0,  0,  0,  0,  0,  0,  0,  0,  0,  0,  0,  0,\n",
       "        0,  0,  0,  0,  0,  0,  0,  0,  0,  0,  0,  0,  0,  0,  0,  0,  0,\n",
       "        0,  0,  0,  0,  0,  0, 25, 16, 26, 31,  0, 23, 34, 34, 16, 22, 29,\n",
       "       39, 36, 34, 23, 24, 13, 35, 48, 40, 32, 24, 13, 17, 30, 44, 34, 30,\n",
       "       32, 16, 14, 27, 49, 36, 31, 41, 14, 11, 37, 35, 43, 28, 33, 15, 10,\n",
       "       34, 40, 45, 38, 41, 12, 15, 40, 28, 37, 42, 38, 17, 13, 45, 43, 33,\n",
       "       41, 27, 15, 15, 39, 39, 31, 35, 38, 13, 17, 32, 39, 34, 28, 38,  8,\n",
       "       14, 34, 41, 35, 20,  8,  6,  2, 15, 20, 22, 26])"
      ]
     },
     "execution_count": 7,
     "metadata": {},
     "output_type": "execute_result"
    }
   ],
   "source": [
    "desired = mymatrix.T[1]\n",
    "desired"
   ]
  },
  {
   "cell_type": "code",
   "execution_count": 8,
   "metadata": {},
   "outputs": [],
   "source": [
    "inputs = []\n",
    "for i in c:\n",
    "    inputs.append(mymatrix.T[i])"
   ]
  },
  {
   "cell_type": "code",
   "execution_count": 9,
   "metadata": {},
   "outputs": [],
   "source": [
    "myguess = np.matmul(desired, np.linalg.pinv(inputs))"
   ]
  },
  {
   "cell_type": "code",
   "execution_count": 10,
   "metadata": {},
   "outputs": [],
   "source": [
    "result = np.matmul(myguess, inputs)"
   ]
  },
  {
   "cell_type": "code",
   "execution_count": 11,
   "metadata": {},
   "outputs": [],
   "source": [
    "error = np.subtract(result, desired)"
   ]
  },
  {
   "cell_type": "code",
   "execution_count": 12,
   "metadata": {},
   "outputs": [
    {
     "data": {
      "text/plain": [
       "array([  0.        ,   0.        ,   0.        ,   0.        ,\n",
       "         0.        ,   0.        ,   0.        ,   0.        ,\n",
       "         0.        ,   0.        ,   0.        ,   0.        ,\n",
       "         0.        ,   0.        ,   0.        ,   0.        ,\n",
       "         0.        ,   0.        ,   0.        ,   0.        ,\n",
       "         0.        ,   0.        ,   0.        ,   0.        ,\n",
       "         0.        ,   0.        ,   0.        ,   0.        ,\n",
       "         0.        ,   0.        ,   0.        ,   0.        ,\n",
       "         0.        ,   0.        ,   0.        ,   0.        ,\n",
       "         0.        ,   0.        ,   0.        ,   0.        ,\n",
       "         0.        ,   0.        ,   0.        ,   0.        ,\n",
       "         0.        ,   0.        ,   0.        ,   0.        ,\n",
       "         0.        ,   0.        ,   0.        ,   0.        ,\n",
       "         0.        ,   0.        ,   0.        ,   0.        ,\n",
       "         0.        ,   0.        ,   0.        ,   0.        ,\n",
       "         0.        ,   0.        ,   0.        ,   0.        ,\n",
       "         0.        ,   0.        ,   0.        ,   0.        ,\n",
       "         0.        ,   0.        ,   0.        ,   0.        ,\n",
       "         0.        ,   0.        ,   0.        ,   0.        ,\n",
       "         0.        ,   0.        ,   0.        ,   0.        ,\n",
       "         0.        ,   0.        ,   0.        ,   0.        ,\n",
       "         0.        ,   0.        ,   0.        ,   0.        ,\n",
       "         0.        ,   0.        ,   0.        , -10.97625227,\n",
       "         3.67175144,   4.40085485,  -5.11830149,   0.        ,\n",
       "         2.29852347,  -3.45855805,   0.75802092,  -1.05096681,\n",
       "         2.53364093,   3.87531482,  -5.07055682,  -0.60322051,\n",
       "       -14.08763502,   0.785511  ,  -2.99267342,   2.01534917,\n",
       "         0.49998935,  -3.66815536,   5.70047056,   0.02819147,\n",
       "         4.61790863,  -0.18488222,  -2.81904231,  -3.86330903,\n",
       "        -8.73411781,   3.92891842,   0.8097728 ,   0.95037152,\n",
       "         1.63698101,  -1.26735233,   4.05953623,  -7.87610074,\n",
       "         5.18360608,  -3.00306347,  -5.08761099,   5.82099597,\n",
       "         1.04292734,  -0.15966949,  -1.85243625,  -4.84109428,\n",
       "         9.41000042,  10.64398915,  -3.97315872,   8.76059716,\n",
       "         4.14457854,  -6.81964968,  -0.09196085,   9.16032492,\n",
       "        -3.50701017,   5.21949848,   5.04494464,  -3.22428952,\n",
       "         7.07498525,   6.85549803,   0.12340164,   3.00945761,\n",
       "        -1.0635013 ,   3.05470495,  -1.41376354,  -4.40144718,\n",
       "         0.13640432,  -7.34016057,  -0.54728166,  -2.02081566,\n",
       "         3.72250727,  -6.68116127,  -4.51567434,   3.22955343,\n",
       "        -2.76049797,  -8.45111023,  -5.60386999,   1.32204563,\n",
       "         0.93217753,  -2.17877134,  -6.72338523,   0.70319894,\n",
       "        -6.09526206,   1.37949788,   1.7437799 ,  -3.23709389,\n",
       "        -2.41341851,  -0.07259701,  -0.38292046,  -0.47564093,\n",
       "         3.39560194,   6.16986298,   4.15238707,   6.02621649,\n",
       "         4.37855819,   1.07549799])"
      ]
     },
     "execution_count": 12,
     "metadata": {},
     "output_type": "execute_result"
    }
   ],
   "source": [
    "error"
   ]
  },
  {
   "cell_type": "code",
   "execution_count": 13,
   "metadata": {},
   "outputs": [
    {
     "data": {
      "text/plain": [
       "array([ 0.04057927, -0.41092396,  0.43467523,  0.13353795,  0.86057485,\n",
       "        0.08464691,  0.93847515,  0.11482575, -0.5460429 ,  0.92609917,\n",
       "        0.18893508,  0.11392582, -0.29368813])"
      ]
     },
     "execution_count": 13,
     "metadata": {},
     "output_type": "execute_result"
    }
   ],
   "source": [
    "myguess"
   ]
  },
  {
   "cell_type": "code",
   "execution_count": null,
   "metadata": {},
   "outputs": [],
   "source": []
  }
 ],
 "metadata": {
  "kernelspec": {
   "display_name": "Python 3",
   "language": "python",
   "name": "python3"
  },
  "language_info": {
   "codemirror_mode": {
    "name": "ipython",
    "version": 3
   },
   "file_extension": ".py",
   "mimetype": "text/x-python",
   "name": "python",
   "nbconvert_exporter": "python",
   "pygments_lexer": "ipython3",
   "version": "3.6.4"
  }
 },
 "nbformat": 4,
 "nbformat_minor": 2
}
