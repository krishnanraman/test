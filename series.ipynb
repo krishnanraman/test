{
 "cells": [
  {
   "cell_type": "code",
   "execution_count": 17,
   "metadata": {},
   "outputs": [],
   "source": [
    "import pandas as pd\n",
    "import lmfit as lm\n",
    "import numpy as np"
   ]
  },
  {
   "cell_type": "code",
   "execution_count": 2,
   "metadata": {},
   "outputs": [],
   "source": [
    "data = pd.read_csv(\"~/Desktop/nyc_series.csv\")"
   ]
  },
  {
   "cell_type": "code",
   "execution_count": 9,
   "metadata": {},
   "outputs": [
    {
     "data": {
      "text/html": [
       "<div>\n",
       "<style scoped>\n",
       "    .dataframe tbody tr th:only-of-type {\n",
       "        vertical-align: middle;\n",
       "    }\n",
       "\n",
       "    .dataframe tbody tr th {\n",
       "        vertical-align: top;\n",
       "    }\n",
       "\n",
       "    .dataframe thead th {\n",
       "        text-align: right;\n",
       "    }\n",
       "</style>\n",
       "<table border=\"1\" class=\"dataframe\">\n",
       "  <thead>\n",
       "    <tr style=\"text-align: right;\">\n",
       "      <th></th>\n",
       "      <th>local_date_id</th>\n",
       "      <th>rock_cookie_ginger_pre</th>\n",
       "      <th>rock_cookie_ginger_post</th>\n",
       "      <th>chelsea_cookie_ginger_pre</th>\n",
       "      <th>chelsea_cookie_ginger_post</th>\n",
       "      <th>dean_cookie_ginger_pre</th>\n",
       "      <th>dean_cookie_ginger_post</th>\n",
       "      <th>bryant_cookie_ginger_pre</th>\n",
       "      <th>bryant_cookie_ginger_post</th>\n",
       "      <th>park_slope_cookie_ginger_pre</th>\n",
       "      <th>...</th>\n",
       "      <th>dean_brownie_bite_pre</th>\n",
       "      <th>dean_brownie_bite_post</th>\n",
       "      <th>bryant_brownie_bite_pre</th>\n",
       "      <th>bryant_brownie_bite_post</th>\n",
       "      <th>park_slope_brownie_bite_pre</th>\n",
       "      <th>park_slope_brownie_bite_post</th>\n",
       "      <th>bushwick_brownie_bite_pre</th>\n",
       "      <th>bushwick_brownie_bite_post</th>\n",
       "      <th>clinton_brownie_bite_pre</th>\n",
       "      <th>clinton_brownie_bite_post</th>\n",
       "    </tr>\n",
       "  </thead>\n",
       "  <tbody>\n",
       "    <tr>\n",
       "      <th>0</th>\n",
       "      <td>20180226</td>\n",
       "      <td>0</td>\n",
       "      <td>24</td>\n",
       "      <td>0</td>\n",
       "      <td>11</td>\n",
       "      <td>0</td>\n",
       "      <td>5</td>\n",
       "      <td>0</td>\n",
       "      <td>10</td>\n",
       "      <td>0</td>\n",
       "      <td>...</td>\n",
       "      <td>0</td>\n",
       "      <td>1</td>\n",
       "      <td>0</td>\n",
       "      <td>8</td>\n",
       "      <td>0</td>\n",
       "      <td>5</td>\n",
       "      <td>0</td>\n",
       "      <td>2</td>\n",
       "      <td>0</td>\n",
       "      <td>1</td>\n",
       "    </tr>\n",
       "    <tr>\n",
       "      <th>1</th>\n",
       "      <td>20180225</td>\n",
       "      <td>0</td>\n",
       "      <td>7</td>\n",
       "      <td>0</td>\n",
       "      <td>8</td>\n",
       "      <td>0</td>\n",
       "      <td>7</td>\n",
       "      <td>0</td>\n",
       "      <td>6</td>\n",
       "      <td>0</td>\n",
       "      <td>...</td>\n",
       "      <td>0</td>\n",
       "      <td>5</td>\n",
       "      <td>0</td>\n",
       "      <td>2</td>\n",
       "      <td>0</td>\n",
       "      <td>6</td>\n",
       "      <td>0</td>\n",
       "      <td>0</td>\n",
       "      <td>0</td>\n",
       "      <td>6</td>\n",
       "    </tr>\n",
       "    <tr>\n",
       "      <th>2</th>\n",
       "      <td>20180224</td>\n",
       "      <td>0</td>\n",
       "      <td>12</td>\n",
       "      <td>0</td>\n",
       "      <td>7</td>\n",
       "      <td>0</td>\n",
       "      <td>8</td>\n",
       "      <td>0</td>\n",
       "      <td>6</td>\n",
       "      <td>0</td>\n",
       "      <td>...</td>\n",
       "      <td>0</td>\n",
       "      <td>5</td>\n",
       "      <td>0</td>\n",
       "      <td>5</td>\n",
       "      <td>0</td>\n",
       "      <td>16</td>\n",
       "      <td>0</td>\n",
       "      <td>1</td>\n",
       "      <td>0</td>\n",
       "      <td>7</td>\n",
       "    </tr>\n",
       "    <tr>\n",
       "      <th>3</th>\n",
       "      <td>20180223</td>\n",
       "      <td>0</td>\n",
       "      <td>18</td>\n",
       "      <td>0</td>\n",
       "      <td>5</td>\n",
       "      <td>0</td>\n",
       "      <td>3</td>\n",
       "      <td>0</td>\n",
       "      <td>9</td>\n",
       "      <td>0</td>\n",
       "      <td>...</td>\n",
       "      <td>0</td>\n",
       "      <td>1</td>\n",
       "      <td>0</td>\n",
       "      <td>10</td>\n",
       "      <td>0</td>\n",
       "      <td>11</td>\n",
       "      <td>0</td>\n",
       "      <td>0</td>\n",
       "      <td>0</td>\n",
       "      <td>2</td>\n",
       "    </tr>\n",
       "    <tr>\n",
       "      <th>4</th>\n",
       "      <td>20180222</td>\n",
       "      <td>0</td>\n",
       "      <td>20</td>\n",
       "      <td>0</td>\n",
       "      <td>11</td>\n",
       "      <td>0</td>\n",
       "      <td>2</td>\n",
       "      <td>0</td>\n",
       "      <td>13</td>\n",
       "      <td>0</td>\n",
       "      <td>...</td>\n",
       "      <td>0</td>\n",
       "      <td>1</td>\n",
       "      <td>0</td>\n",
       "      <td>10</td>\n",
       "      <td>0</td>\n",
       "      <td>5</td>\n",
       "      <td>0</td>\n",
       "      <td>1</td>\n",
       "      <td>0</td>\n",
       "      <td>3</td>\n",
       "    </tr>\n",
       "  </tbody>\n",
       "</table>\n",
       "<p>5 rows × 127 columns</p>\n",
       "</div>"
      ],
      "text/plain": [
       "   local_date_id  rock_cookie_ginger_pre  rock_cookie_ginger_post  \\\n",
       "0       20180226                       0                       24   \n",
       "1       20180225                       0                        7   \n",
       "2       20180224                       0                       12   \n",
       "3       20180223                       0                       18   \n",
       "4       20180222                       0                       20   \n",
       "\n",
       "   chelsea_cookie_ginger_pre  chelsea_cookie_ginger_post  \\\n",
       "0                          0                          11   \n",
       "1                          0                           8   \n",
       "2                          0                           7   \n",
       "3                          0                           5   \n",
       "4                          0                          11   \n",
       "\n",
       "   dean_cookie_ginger_pre  dean_cookie_ginger_post  bryant_cookie_ginger_pre  \\\n",
       "0                       0                        5                         0   \n",
       "1                       0                        7                         0   \n",
       "2                       0                        8                         0   \n",
       "3                       0                        3                         0   \n",
       "4                       0                        2                         0   \n",
       "\n",
       "   bryant_cookie_ginger_post  park_slope_cookie_ginger_pre  \\\n",
       "0                         10                             0   \n",
       "1                          6                             0   \n",
       "2                          6                             0   \n",
       "3                          9                             0   \n",
       "4                         13                             0   \n",
       "\n",
       "             ...              dean_brownie_bite_pre  dean_brownie_bite_post  \\\n",
       "0            ...                                  0                       1   \n",
       "1            ...                                  0                       5   \n",
       "2            ...                                  0                       5   \n",
       "3            ...                                  0                       1   \n",
       "4            ...                                  0                       1   \n",
       "\n",
       "   bryant_brownie_bite_pre  bryant_brownie_bite_post  \\\n",
       "0                        0                         8   \n",
       "1                        0                         2   \n",
       "2                        0                         5   \n",
       "3                        0                        10   \n",
       "4                        0                        10   \n",
       "\n",
       "   park_slope_brownie_bite_pre  park_slope_brownie_bite_post  \\\n",
       "0                            0                             5   \n",
       "1                            0                             6   \n",
       "2                            0                            16   \n",
       "3                            0                            11   \n",
       "4                            0                             5   \n",
       "\n",
       "   bushwick_brownie_bite_pre  bushwick_brownie_bite_post  \\\n",
       "0                          0                           2   \n",
       "1                          0                           0   \n",
       "2                          0                           1   \n",
       "3                          0                           0   \n",
       "4                          0                           1   \n",
       "\n",
       "   clinton_brownie_bite_pre  clinton_brownie_bite_post  \n",
       "0                         0                          1  \n",
       "1                         0                          6  \n",
       "2                         0                          7  \n",
       "3                         0                          2  \n",
       "4                         0                          3  \n",
       "\n",
       "[5 rows x 127 columns]"
      ]
     },
     "execution_count": 9,
     "metadata": {},
     "output_type": "execute_result"
    }
   ],
   "source": [
    "data.head()"
   ]
  },
  {
   "cell_type": "code",
   "execution_count": 5,
   "metadata": {},
   "outputs": [],
   "source": [
    "mymatrix = data.as_matrix()"
   ]
  },
  {
   "cell_type": "code",
   "execution_count": 6,
   "metadata": {},
   "outputs": [
    {
     "data": {
      "text/plain": [
       "numpy.ndarray"
      ]
     },
     "execution_count": 6,
     "metadata": {},
     "output_type": "execute_result"
    }
   ],
   "source": [
    "type(mymatrix)"
   ]
  },
  {
   "cell_type": "code",
   "execution_count": 12,
   "metadata": {},
   "outputs": [
    {
     "data": {
      "text/plain": [
       "127"
      ]
     },
     "execution_count": 12,
     "metadata": {},
     "output_type": "execute_result"
    }
   ],
   "source": [
    "len(mymatrix.T)"
   ]
  },
  {
   "cell_type": "code",
   "execution_count": 16,
   "metadata": {},
   "outputs": [
    {
     "data": {
      "text/plain": [
       "array([ 0,  0,  0,  0,  0,  0,  0,  0,  0,  0,  0,  0,  0,  0,  0,  0,  0,\n",
       "        0,  0,  0,  0,  0,  0,  0,  0,  0,  0,  0,  0,  0,  0,  0,  0,  0,\n",
       "        0,  0,  0,  0,  0,  0,  0,  0,  0,  0,  0,  0,  0,  0,  0,  0,  0,\n",
       "        0,  0,  0,  0,  0,  0,  0,  0,  0,  0,  0,  0,  0,  0,  0,  0,  0,\n",
       "        0,  0,  0,  0,  0,  0,  0,  0,  0,  0,  0,  0,  0,  0,  0,  0,  0,\n",
       "        0,  0,  0,  0,  0,  0, 25, 16, 26, 31,  0, 23, 34, 34, 16, 22, 29,\n",
       "       39, 36, 34, 23, 24, 13, 35, 48, 40, 32, 24, 13, 17, 30, 44, 34, 30,\n",
       "       32, 16, 14, 27, 49, 36, 31, 41, 14, 11, 37, 35, 43, 28, 33, 15, 10,\n",
       "       34, 40, 45, 38, 41, 12, 15, 40, 28, 37, 42, 38, 17, 13, 45, 43, 33,\n",
       "       41, 27, 15, 15, 39, 39, 31, 35, 38, 13, 17, 32, 39, 34, 28, 38,  8,\n",
       "       14, 34, 41, 35, 20,  8,  6,  2, 15, 20, 22, 26])"
      ]
     },
     "execution_count": 16,
     "metadata": {},
     "output_type": "execute_result"
    }
   ],
   "source": [
    "desired = mymatrix.T[1]\n",
    "desired"
   ]
  },
  {
   "cell_type": "code",
   "execution_count": 18,
   "metadata": {},
   "outputs": [],
   "source": [
    "inputs = []\n",
    "for i in np.arange(3,127,2):\n",
    "    inputs.append(mymatrix.T[i])"
   ]
  },
  {
   "cell_type": "code",
   "execution_count": 42,
   "metadata": {},
   "outputs": [],
   "source": [
    "myguess = np.matmul(desired, np.linalg.pinv(inputs))"
   ]
  },
  {
   "cell_type": "code",
   "execution_count": 44,
   "metadata": {},
   "outputs": [],
   "source": [
    "result = np.matmul(myguess, inputs)"
   ]
  },
  {
   "cell_type": "code",
   "execution_count": 45,
   "metadata": {},
   "outputs": [],
   "source": [
    "error = np.subtract(result, desired)"
   ]
  },
  {
   "cell_type": "code",
   "execution_count": 46,
   "metadata": {},
   "outputs": [
    {
     "data": {
      "text/plain": [
       "array([ 0.        ,  0.        ,  0.        ,  0.        ,  0.        ,\n",
       "        0.        ,  0.        ,  0.        ,  0.        ,  0.        ,\n",
       "        0.        ,  0.        ,  0.        ,  0.        ,  0.        ,\n",
       "        0.        ,  0.        ,  0.        ,  0.        ,  0.        ,\n",
       "        0.        ,  0.        ,  0.        ,  0.        ,  0.        ,\n",
       "        0.        ,  0.        ,  0.        ,  0.        ,  0.        ,\n",
       "        0.        ,  0.        ,  0.        ,  0.        ,  0.        ,\n",
       "        0.        ,  0.        ,  0.        ,  0.        ,  0.        ,\n",
       "        0.        ,  0.        ,  0.        ,  0.        ,  0.        ,\n",
       "        0.        ,  0.        ,  0.        ,  0.        ,  0.        ,\n",
       "        0.        ,  0.        ,  0.        ,  0.        ,  0.        ,\n",
       "        0.        ,  0.        ,  0.        ,  0.        ,  0.        ,\n",
       "        0.        ,  0.        ,  0.        ,  0.        ,  0.        ,\n",
       "        0.        ,  0.        ,  0.        ,  0.        ,  0.        ,\n",
       "        0.        ,  0.        ,  0.        ,  0.        ,  0.        ,\n",
       "        0.        ,  0.        ,  0.        ,  0.        ,  0.        ,\n",
       "        0.        ,  0.        ,  0.        ,  0.        ,  0.        ,\n",
       "        0.        ,  0.        ,  0.        ,  0.        ,  0.        ,\n",
       "        0.        , -0.91040331,  1.01090835, -0.05360796, -1.54752004,\n",
       "        0.        , -0.21255922, -1.57752771,  0.41621277,  2.79879538,\n",
       "        1.13569931, -0.54870909,  1.64383685, -0.89425461,  0.34459446,\n",
       "        3.56810979, -1.85101796,  1.7081753 ,  2.23365494, -4.27012981,\n",
       "       -0.94643115,  1.01058219,  0.66718567,  0.58672186, -0.92411508,\n",
       "       -1.51248291, -2.58537437, -0.55459664, -1.34412755, -1.36657774,\n",
       "       -0.78576702, -0.28531198,  2.08915895, -2.31435755,  0.69824856,\n",
       "       -0.71944319, -1.78223329, -0.85228687,  0.88260835, -1.85547169,\n",
       "        3.24459234,  0.5231475 ,  1.35094989,  3.5604479 ,  0.99640792,\n",
       "       -2.25906585, -1.68005613, -1.22222213, -1.10796432,  5.51262945,\n",
       "       -0.98723183,  1.99950319,  3.30646682, -3.06245099,  2.29204096,\n",
       "        0.3229082 ,  1.86565645, -0.98768805, -1.54315471, -0.61943131,\n",
       "        3.36517258, -0.08318469, -0.00661012, -2.07546753,  2.11381667,\n",
       "       -3.33574053, -0.31688125, -5.32253962,  2.59251486,  2.1009191 ,\n",
       "       -0.23820304, -5.74098713,  1.25541435,  2.30868025,  1.87393522,\n",
       "       -0.99026027, -3.46688152,  1.15485391, -1.23082448, -1.44604423,\n",
       "       -0.82419211,  0.90108007, -0.61762553, -0.06199911, -2.99022054,\n",
       "       -1.44245622,  0.72183486, -1.43534125,  1.57494623,  3.07227452,\n",
       "        5.19016859, -1.10906986])"
      ]
     },
     "execution_count": 46,
     "metadata": {},
     "output_type": "execute_result"
    }
   ],
   "source": [
    "error"
   ]
  },
  {
   "cell_type": "code",
   "execution_count": 48,
   "metadata": {},
   "outputs": [
    {
     "data": {
      "text/plain": [
       "array([-0.37725016, -0.29437415,  0.40512941,  0.49516293,  0.82185322,\n",
       "       -0.09637998,  0.31179786, -0.01855175, -0.82845689,  0.52467256,\n",
       "        0.43204727, -0.31680856, -0.42979358,  0.16885028, -0.07731241,\n",
       "       -0.08184305,  0.35028771, -0.21241794,  0.28963031, -0.05809774,\n",
       "        0.00761392, -0.12036139, -0.10130007, -0.67238115,  0.99019817,\n",
       "       -0.7106329 ,  0.03465854,  0.97521808,  0.99917791, -0.0519349 ,\n",
       "        0.02016795, -0.49417732, -0.62216956,  0.40448431,  0.08759398,\n",
       "        0.47629979,  0.07164326, -0.06074976, -0.07801442, -0.05770701,\n",
       "       -0.25304649, -0.09114291,  0.00437258,  0.12379849,  0.3445917 ,\n",
       "       -0.34369139,  0.06778137,  0.16795766, -0.07029392,  0.13432227,\n",
       "       -0.17068817, -0.01198337, -0.28958408, -0.04575358,  0.29704255,\n",
       "        0.14578834, -0.02769597,  0.51208567, -0.41973686, -0.34127678,\n",
       "        0.44565388,  0.17095573])"
      ]
     },
     "execution_count": 48,
     "metadata": {},
     "output_type": "execute_result"
    }
   ],
   "source": [
    "myguess"
   ]
  },
  {
   "cell_type": "code",
   "execution_count": null,
   "metadata": {},
   "outputs": [],
   "source": []
  }
 ],
 "metadata": {
  "kernelspec": {
   "display_name": "Python 3",
   "language": "python",
   "name": "python3"
  },
  "language_info": {
   "codemirror_mode": {
    "name": "ipython",
    "version": 3
   },
   "file_extension": ".py",
   "mimetype": "text/x-python",
   "name": "python",
   "nbconvert_exporter": "python",
   "pygments_lexer": "ipython3",
   "version": "3.6.4"
  }
 },
 "nbformat": 4,
 "nbformat_minor": 2
}
